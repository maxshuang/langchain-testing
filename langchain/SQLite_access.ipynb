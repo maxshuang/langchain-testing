{
 "cells": [
  {
   "cell_type": "code",
   "execution_count": 10,
   "metadata": {},
   "outputs": [],
   "source": [
    "local_model = \"/Users/maxhuang/projects/llm/models/Qwen/Qwen2.5-Coder-14B-Instruct-GGUF/qwen2.5-coder-14b-instruct-q4_0.gguf\"\n",
    "import multiprocessing\n",
    "\n",
    "from langchain_community.chat_models import ChatLlamaCpp\n",
    "\n",
    "llm = ChatLlamaCpp(\n",
    "    temperature=0,\n",
    "    model_path=local_model,\n",
    "    n_ctx=10000,\n",
    "    n_gpu_layers=8,\n",
    "    n_batch=300,  # Should be between 1 and n_ctx, consider the amount of VRAM in your GPU.\n",
    "    max_tokens=512,\n",
    "    n_threads=multiprocessing.cpu_count() - 1,\n",
    "    repeat_penalty=1.5,\n",
    "    top_p=0.5,\n",
    "    verbose=False,\n",
    ")"
   ]
  },
  {
   "cell_type": "code",
   "execution_count": 3,
   "metadata": {},
   "outputs": [],
   "source": [
    "from langchain_experimental.sql import SQLDatabaseChain\n",
    "from langchain_community.utilities import SQLDatabase\n",
    "from langchain.chains import create_sql_query_chain\n",
    "from langchain.prompts import PromptTemplate\n",
    "import sqlite3\n"
   ]
  },
  {
   "cell_type": "code",
   "execution_count": 12,
   "metadata": {},
   "outputs": [],
   "source": [
    "def get_schema_details(db_path):\n",
    "    conn = sqlite3.connect(db_path)\n",
    "    cursor = conn.cursor()\n",
    "    \n",
    "    # Get all tables\n",
    "    cursor.execute(\"SELECT name FROM sqlite_master WHERE type='table';\")\n",
    "    tables = cursor.fetchall()\n",
    "    \n",
    "    schema_info = {}\n",
    "    for table in tables:\n",
    "        table_name = table[0]\n",
    "        # Get columns\n",
    "        cursor.execute(f\"PRAGMA table_info({table_name})\")\n",
    "        columns = cursor.fetchall()\n",
    "        # Get foreign keys\n",
    "        cursor.execute(f\"PRAGMA foreign_key_list({table_name})\")\n",
    "        foreign_keys = cursor.fetchall()\n",
    "        \n",
    "        schema_info[table_name] = {\n",
    "            'columns': [(col[1], col[2]) for col in columns],  # name, type\n",
    "            'foreign_keys': [(fk[3], fk[2], fk[4]) for fk in foreign_keys]  # table, from, to\n",
    "        }\n",
    "    \n",
    "    conn.close()\n",
    "    #print(schema_info)\n",
    "    return schema_info\n",
    "\n",
    "def create_smart_prompt(schema_info):\n",
    "    schema_text = \"Database Schema:\\n\"\n",
    "    for table, info in schema_info.items():\n",
    "        schema_text += f\"\\nTable: {table}\\n\"\n",
    "        schema_text += \"Columns:\\n\"\n",
    "        for col_name, col_type in info['columns']:\n",
    "            schema_text += f\"- {col_name} ({col_type})\\n\"\n",
    "        if info['foreign_keys']:\n",
    "            schema_text += \"Relations:\\n\"\n",
    "            for ref_table, from_col, to_col in info['foreign_keys']:\n",
    "                schema_text += f\"- Links to {ref_table} ({from_col} -> {to_col})\\n\"\n",
    "    #print(schema_text)\n",
    "    \n",
    "    return PromptTemplate(\n",
    "        template=f\"\"\"{schema_text}\n",
    "        \n",
    "        Given this schema, write a SQL query to answer: {{question}}\n",
    "        Consider table relationships and use appropriate JOINs.\n",
    "        SQL Query:\"\"\",\n",
    "        input_variables=[\"question\"]\n",
    "    )\n"
   ]
  },
  {
   "cell_type": "code",
   "execution_count": 8,
   "metadata": {},
   "outputs": [
    {
     "name": "stdout",
     "output_type": "stream",
     "text": [
      "{'albums': {'columns': [('AlbumId', 'INTEGER'), ('Title', 'NVARCHAR(160)'), ('ArtistId', 'INTEGER')], 'foreign_keys': [('ArtistId', 'artists', 'ArtistId')]}, 'sqlite_sequence': {'columns': [('name', ''), ('seq', '')], 'foreign_keys': []}, 'artists': {'columns': [('ArtistId', 'INTEGER'), ('Name', 'NVARCHAR(120)')], 'foreign_keys': []}, 'customers': {'columns': [('CustomerId', 'INTEGER'), ('FirstName', 'NVARCHAR(40)'), ('LastName', 'NVARCHAR(20)'), ('Company', 'NVARCHAR(80)'), ('Address', 'NVARCHAR(70)'), ('City', 'NVARCHAR(40)'), ('State', 'NVARCHAR(40)'), ('Country', 'NVARCHAR(40)'), ('PostalCode', 'NVARCHAR(10)'), ('Phone', 'NVARCHAR(24)'), ('Fax', 'NVARCHAR(24)'), ('Email', 'NVARCHAR(60)'), ('SupportRepId', 'INTEGER')], 'foreign_keys': [('SupportRepId', 'employees', 'EmployeeId')]}, 'employees': {'columns': [('EmployeeId', 'INTEGER'), ('LastName', 'NVARCHAR(20)'), ('FirstName', 'NVARCHAR(20)'), ('Title', 'NVARCHAR(30)'), ('ReportsTo', 'INTEGER'), ('BirthDate', 'DATETIME'), ('HireDate', 'DATETIME'), ('Address', 'NVARCHAR(70)'), ('City', 'NVARCHAR(40)'), ('State', 'NVARCHAR(40)'), ('Country', 'NVARCHAR(40)'), ('PostalCode', 'NVARCHAR(10)'), ('Phone', 'NVARCHAR(24)'), ('Fax', 'NVARCHAR(24)'), ('Email', 'NVARCHAR(60)')], 'foreign_keys': [('ReportsTo', 'employees', 'EmployeeId')]}, 'genres': {'columns': [('GenreId', 'INTEGER'), ('Name', 'NVARCHAR(120)')], 'foreign_keys': []}, 'invoices': {'columns': [('InvoiceId', 'INTEGER'), ('CustomerId', 'INTEGER'), ('InvoiceDate', 'DATETIME'), ('BillingAddress', 'NVARCHAR(70)'), ('BillingCity', 'NVARCHAR(40)'), ('BillingState', 'NVARCHAR(40)'), ('BillingCountry', 'NVARCHAR(40)'), ('BillingPostalCode', 'NVARCHAR(10)'), ('Total', 'NUMERIC(10,2)')], 'foreign_keys': [('CustomerId', 'customers', 'CustomerId')]}, 'invoice_items': {'columns': [('InvoiceLineId', 'INTEGER'), ('InvoiceId', 'INTEGER'), ('TrackId', 'INTEGER'), ('UnitPrice', 'NUMERIC(10,2)'), ('Quantity', 'INTEGER')], 'foreign_keys': [('TrackId', 'tracks', 'TrackId'), ('InvoiceId', 'invoices', 'InvoiceId')]}, 'media_types': {'columns': [('MediaTypeId', 'INTEGER'), ('Name', 'NVARCHAR(120)')], 'foreign_keys': []}, 'playlists': {'columns': [('PlaylistId', 'INTEGER'), ('Name', 'NVARCHAR(120)')], 'foreign_keys': []}, 'playlist_track': {'columns': [('PlaylistId', 'INTEGER'), ('TrackId', 'INTEGER')], 'foreign_keys': [('TrackId', 'tracks', 'TrackId'), ('PlaylistId', 'playlists', 'PlaylistId')]}, 'tracks': {'columns': [('TrackId', 'INTEGER'), ('Name', 'NVARCHAR(200)'), ('AlbumId', 'INTEGER'), ('MediaTypeId', 'INTEGER'), ('GenreId', 'INTEGER'), ('Composer', 'NVARCHAR(220)'), ('Milliseconds', 'INTEGER'), ('Bytes', 'INTEGER'), ('UnitPrice', 'NUMERIC(10,2)')], 'foreign_keys': [('MediaTypeId', 'media_types', 'MediaTypeId'), ('GenreId', 'genres', 'GenreId'), ('AlbumId', 'albums', 'AlbumId')]}, 'sqlite_stat1': {'columns': [('tbl', ''), ('idx', ''), ('stat', '')], 'foreign_keys': []}}\n",
      "{'albums': {'columns': [('AlbumId', 'INTEGER'), ('Title', 'NVARCHAR(160)'), ('ArtistId', 'INTEGER')], 'foreign_keys': [('ArtistId', 'artists', 'ArtistId')]}, 'sqlite_sequence': {'columns': [('name', ''), ('seq', '')], 'foreign_keys': []}, 'artists': {'columns': [('ArtistId', 'INTEGER'), ('Name', 'NVARCHAR(120)')], 'foreign_keys': []}, 'customers': {'columns': [('CustomerId', 'INTEGER'), ('FirstName', 'NVARCHAR(40)'), ('LastName', 'NVARCHAR(20)'), ('Company', 'NVARCHAR(80)'), ('Address', 'NVARCHAR(70)'), ('City', 'NVARCHAR(40)'), ('State', 'NVARCHAR(40)'), ('Country', 'NVARCHAR(40)'), ('PostalCode', 'NVARCHAR(10)'), ('Phone', 'NVARCHAR(24)'), ('Fax', 'NVARCHAR(24)'), ('Email', 'NVARCHAR(60)'), ('SupportRepId', 'INTEGER')], 'foreign_keys': [('SupportRepId', 'employees', 'EmployeeId')]}, 'employees': {'columns': [('EmployeeId', 'INTEGER'), ('LastName', 'NVARCHAR(20)'), ('FirstName', 'NVARCHAR(20)'), ('Title', 'NVARCHAR(30)'), ('ReportsTo', 'INTEGER'), ('BirthDate', 'DATETIME'), ('HireDate', 'DATETIME'), ('Address', 'NVARCHAR(70)'), ('City', 'NVARCHAR(40)'), ('State', 'NVARCHAR(40)'), ('Country', 'NVARCHAR(40)'), ('PostalCode', 'NVARCHAR(10)'), ('Phone', 'NVARCHAR(24)'), ('Fax', 'NVARCHAR(24)'), ('Email', 'NVARCHAR(60)')], 'foreign_keys': [('ReportsTo', 'employees', 'EmployeeId')]}, 'genres': {'columns': [('GenreId', 'INTEGER'), ('Name', 'NVARCHAR(120)')], 'foreign_keys': []}, 'invoices': {'columns': [('InvoiceId', 'INTEGER'), ('CustomerId', 'INTEGER'), ('InvoiceDate', 'DATETIME'), ('BillingAddress', 'NVARCHAR(70)'), ('BillingCity', 'NVARCHAR(40)'), ('BillingState', 'NVARCHAR(40)'), ('BillingCountry', 'NVARCHAR(40)'), ('BillingPostalCode', 'NVARCHAR(10)'), ('Total', 'NUMERIC(10,2)')], 'foreign_keys': [('CustomerId', 'customers', 'CustomerId')]}, 'invoice_items': {'columns': [('InvoiceLineId', 'INTEGER'), ('InvoiceId', 'INTEGER'), ('TrackId', 'INTEGER'), ('UnitPrice', 'NUMERIC(10,2)'), ('Quantity', 'INTEGER')], 'foreign_keys': [('TrackId', 'tracks', 'TrackId'), ('InvoiceId', 'invoices', 'InvoiceId')]}, 'media_types': {'columns': [('MediaTypeId', 'INTEGER'), ('Name', 'NVARCHAR(120)')], 'foreign_keys': []}, 'playlists': {'columns': [('PlaylistId', 'INTEGER'), ('Name', 'NVARCHAR(120)')], 'foreign_keys': []}, 'playlist_track': {'columns': [('PlaylistId', 'INTEGER'), ('TrackId', 'INTEGER')], 'foreign_keys': [('TrackId', 'tracks', 'TrackId'), ('PlaylistId', 'playlists', 'PlaylistId')]}, 'tracks': {'columns': [('TrackId', 'INTEGER'), ('Name', 'NVARCHAR(200)'), ('AlbumId', 'INTEGER'), ('MediaTypeId', 'INTEGER'), ('GenreId', 'INTEGER'), ('Composer', 'NVARCHAR(220)'), ('Milliseconds', 'INTEGER'), ('Bytes', 'INTEGER'), ('UnitPrice', 'NUMERIC(10,2)')], 'foreign_keys': [('MediaTypeId', 'media_types', 'MediaTypeId'), ('GenreId', 'genres', 'GenreId'), ('AlbumId', 'albums', 'AlbumId')]}, 'sqlite_stat1': {'columns': [('tbl', ''), ('idx', ''), ('stat', '')], 'foreign_keys': []}}\n"
     ]
    }
   ],
   "source": [
    "print(get_schema_details(\"chinook.db\"))"
   ]
  },
  {
   "cell_type": "code",
   "execution_count": 13,
   "metadata": {},
   "outputs": [
    {
     "name": "stdout",
     "output_type": "stream",
     "text": [
      "\n",
      "\n",
      "\u001b[1m> Entering new SQLDatabaseChain chain...\u001b[0m\n",
      "Error: Missing some input keys: {'query'}\n",
      "\n",
      "\n",
      "\u001b[1m> Entering new SQLDatabaseChain chain...\u001b[0m\n",
      "Error: Missing some input keys: {'query'}\n",
      "\n",
      "\n",
      "\u001b[1m> Entering new SQLDatabaseChain chain...\u001b[0m\n",
      "Error: Missing some input keys: {'query'}\n",
      "\n",
      "\n",
      "\u001b[1m> Entering new SQLDatabaseChain chain...\u001b[0m\n",
      "Error: Missing some input keys: {'query'}\n"
     ]
    }
   ],
   "source": [
    "# Initialize database and chain\n",
    "db_path = \"chinook.db\"  # Update with your DB path\n",
    "schema_info = get_schema_details(db_path)\n",
    "db = SQLDatabase.from_uri(f\"sqlite:///{db_path}\")\n",
    "\n",
    "# Create chain with schema-aware prompt\n",
    "smart_chain = SQLDatabaseChain.from_llm(\n",
    "    llm=llm,  # Your existing LLM instance\n",
    "    db=db,\n",
    "    prompt=create_smart_prompt(schema_info),\n",
    "    verbose=True\n",
    ")"
   ]
  },
  {
   "cell_type": "code",
   "execution_count": 14,
   "metadata": {},
   "outputs": [
    {
     "name": "stdout",
     "output_type": "stream",
     "text": [
      "\n",
      "\n",
      "\u001b[1m> Entering new SQLDatabaseChain chain...\u001b[0m\n",
      "How many employees are there?\n",
      "SQLQuery:Error: Missing some input keys: {'question'}\n",
      "\n",
      "\n",
      "\u001b[1m> Entering new SQLDatabaseChain chain...\u001b[0m\n",
      "What is the name of the first employee?\n",
      "SQLQuery:Error: Missing some input keys: {'question'}\n",
      "\n",
      "\n",
      "\u001b[1m> Entering new SQLDatabaseChain chain...\u001b[0m\n",
      "Which customer has the most invoices?\n",
      "SQLQuery:Error: Missing some input keys: {'question'}\n",
      "\n",
      "\n",
      "\u001b[1m> Entering new SQLDatabaseChain chain...\u001b[0m\n",
      "List all music genres in the database\n",
      "SQLQuery:Error: Missing some input keys: {'question'}\n"
     ]
    },
    {
     "name": "stderr",
     "output_type": "stream",
     "text": [
      "/var/folders/x2/zk253tmn003dnbcnhrtjggc80000gn/T/ipykernel_69627/1457577392.py:4: LangChainDeprecationWarning: The method `Chain.run` was deprecated in langchain 0.1.0 and will be removed in 1.0. Use :meth:`~invoke` instead.\n",
      "  return smart_chain.run(question)\n"
     ]
    }
   ],
   "source": [
    "# Example query\n",
    "def query_database(question: str):\n",
    "    try:\n",
    "        return smart_chain.run(question)\n",
    "    except ValueError as e:\n",
    "        print(f\"Error: {e}\")\n",
    "        return None\n",
    "    \n",
    "query_database(\"How many employees are there?\")\n",
    "query_database(\"What is the name of the first employee?\")\n",
    "query_database(\"Which customer has the most invoices?\")\n",
    "query_database(\"List all music genres in the database\")"
   ]
  }
 ],
 "metadata": {
  "kernelspec": {
   "display_name": "Python bitnet-cpp",
   "language": "python",
   "name": "bitnet-cpp"
  },
  "language_info": {
   "codemirror_mode": {
    "name": "ipython",
    "version": 3
   },
   "file_extension": ".py",
   "mimetype": "text/x-python",
   "name": "python",
   "nbconvert_exporter": "python",
   "pygments_lexer": "ipython3",
   "version": "3.11.10"
  }
 },
 "nbformat": 4,
 "nbformat_minor": 2
}
