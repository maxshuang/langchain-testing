{
 "cells": [
  {
   "cell_type": "code",
   "execution_count": null,
   "metadata": {},
   "outputs": [
    {
     "name": "stderr",
     "output_type": "stream",
     "text": [
      "/var/folders/x2/zk253tmn003dnbcnhrtjggc80000gn/T/ipykernel_97448/2313586076.py:23: LangChainDeprecationWarning: The method `BaseChatModel.__call__` was deprecated in langchain-core 0.1.7 and will be removed in 1.0. Use :meth:`~invoke` instead.\n",
      "  response = chat(messages)\n"
     ]
    },
    {
     "name": "stdout",
     "output_type": "stream",
     "text": [
      "Quantum computing is a new way of processing information that harnesses the principles of quantum mechanics, which govern the behavior of matter and energy at the atomic and subatomic levels. Here's a simple explanation:\n",
      "\n",
      "1. Bits vs. Qubits: Traditional computers use bits, which can exist in only one of two states: 0 or 1. Quantum computers, on the other hand, use quantum bits (qubits), which can exist as 0, 1, or a combination of both states simultaneously. This phenomenon is known as quantum superposition.\n",
      "\n",
      "2. Parallel Processing: Due to quantum superposition, qubits can represent multiple values at the same time. This allows quantum computers to perform multiple calculations simultaneously, enabling them to solve certain problems much faster than classical computers.\n",
      "\n",
      "3. Quantum Entanglement: Qubits can become \"entangled,\" meaning their states are interconnected, even if they are physically separated. Changing the state of one qubit instantaneously affects the others, enabling quantum computers to perform certain calculations more efficiently.\n",
      "\n",
      "4. Quantum Algorithms: Quantum computers leverage unique quantum algorithms that can solve certain problems exponentially faster than classical algorithms. For example, they can factorize large numbers more efficiently, which has implications for cryptography and data security.\n",
      "\n",
      "5. Quantum Uncertainty: Quantum mechanics introduces an inherent uncertainty, meaning that the act of observing or measuring a quantum system can change its state. This uncertainty is both a challenge and an opportunity in quantum computing.\n",
      "\n",
      "Quantum computing is still in its early stages, with researchers working to overcome challenges such as maintaining quantum states, scaling up the number of qubits, and developing error-correction techniques. However, it holds the promise of revolutionizing fields like cryptography, drug discovery, materials science, and complex optimization problems.\n"
     ]
    }
   ],
   "source": [
    "from langchain_anthropic import ChatAnthropic\n",
    "from langchain.schema import HumanMessage, SystemMessage\n",
    "import os\n",
    "\n",
    "# Install necessary packages if not already installed\n",
    "# !pip install langchain langchain-anthropic\n",
    "\n",
    "\n",
    "# Set your Anthropic API key\n",
    "# Make sure to keep your API key secure, consider using environment variables\n",
    "os.environ[\"ANTHROPIC_API_KEY\"] = \"6QaI7lUd_Q-sVcKMQAA\"  # replace with your actual key\n",
    "\n",
    "# Initialize the Anthropic chat model (Claude)\n",
    "chat = ChatAnthropic(model=\"claude-3-sonnet-20240229\")  # you can choose different models\n",
    "\n",
    "# Example of sending messages for completion\n",
    "messages = [\n",
    "    SystemMessage(content=\"You are a helpful AI assistant.\"),\n",
    "    HumanMessage(content=\"Explain quantum computing in simple terms.\")\n",
    "]\n",
    "\n",
    "# Get response\n",
    "response = chat(messages)\n",
    "print(response.content)"
   ]
  },
  {
   "cell_type": "code",
   "execution_count": null,
   "metadata": {},
   "outputs": [],
   "source": [
    "from langchain_anthropic import ChatAnthropic\n",
    "\n",
    "# Set your Anthropic API key\n",
    "# Make sure to keep your API key secure, consider using environment variables\n",
    "os.environ[\"ANTHROPIC_API_KEY\"] = \"6QaI7lUd_Q-sVcKMQAA\"  # replace with your actual key\n",
    "\n",
    "# Initialize the Anthropic chat model (Claude)\n",
    "llm = ChatAnthropic(\n",
    "    model=\"claude-3-sonnet-20240229\",\n",
    "    temperature=0,\n",
    "    max_tokens=10240,\n",
    "    timeout=None,\n",
    "    max_retries=2,\n",
    ")"
   ]
  }
 ],
 "metadata": {
  "kernelspec": {
   "display_name": "Python bitnet-cpp",
   "language": "python",
   "name": "bitnet-cpp"
  },
  "language_info": {
   "codemirror_mode": {
    "name": "ipython",
    "version": 3
   },
   "file_extension": ".py",
   "mimetype": "text/x-python",
   "name": "python",
   "nbconvert_exporter": "python",
   "pygments_lexer": "ipython3",
   "version": "3.11.10"
  }
 },
 "nbformat": 4,
 "nbformat_minor": 2
}
