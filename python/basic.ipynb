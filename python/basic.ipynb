{
 "cells": [
  {
   "cell_type": "code",
   "execution_count": 22,
   "metadata": {},
   "outputs": [
    {
     "name": "stdout",
     "output_type": "stream",
     "text": [
      "0.5\n",
      "0.5\n",
      "0\n",
      "2.0\n",
      "-4\n",
      "0.5\n"
     ]
    }
   ],
   "source": [
    "print(1/2)\n",
    "print(1/2.0)\n",
    "\n",
    "# for only int output\n",
    "print(1 // 2) \n",
    "print(5.0 // 2.4) \n",
    "print(-10 // 3)\n",
    "\n",
    "# for only int output\n",
    "from __future__ import division\n",
    "print(1/2) "
   ]
  },
  {
   "cell_type": "code",
   "execution_count": 23,
   "metadata": {},
   "outputs": [
    {
     "name": "stdout",
     "output_type": "stream",
     "text": [
      "4\n",
      "-4\n",
      "4\n",
      "4\n",
      "10000\n",
      "175\n",
      "8\n",
      "10\n",
      "2\n"
     ]
    }
   ],
   "source": [
    "# pow and the priority\n",
    "print(2 ** 2)\n",
    "print(-2 ** 2) \n",
    "print((-2) ** 2) \n",
    "print(pow(2, 2))\n",
    "\n",
    "# long int has been automatically handled in python 3\n",
    "print(10000)\n",
    "\n",
    "# 0x and 0o\n",
    "print(0xAF)\n",
    "print(0o10)\n",
    "\n",
    "print(abs(-10))\n",
    "print(round(2.47))\n",
    "#print(input(\"x:\"))"
   ]
  },
  {
   "cell_type": "code",
   "execution_count": 11,
   "metadata": {},
   "outputs": [
    {
     "data": {
      "text/plain": [
       "1j"
      ]
     },
     "execution_count": 11,
     "metadata": {},
     "output_type": "execute_result"
    }
   ],
   "source": [
    "#from math import sqrt\n",
    "#sqrt(-1)\n",
    "\n",
    "# for complex number\n",
    "import cmath\n",
    "cmath.sqrt(-1)"
   ]
  },
  {
   "cell_type": "code",
   "execution_count": 41,
   "metadata": {},
   "outputs": [
    {
     "name": "stdout",
     "output_type": "stream",
     "text": [
      "Hello, world!\n",
      "\"Hello, world!\" she said\n",
      "Let's go!\n",
      "Let's go!\n",
      "\"Hello, world!\" she said\n",
      "Let's say \"Hello, world!\"\n",
      "Let's say \"Hello, world!\"\n",
      "Hello, world!\n",
      "Hello,\n",
      "world!\n",
      "'Hello,\\nworld!'\n",
      "This is a very long string. It continues here. \n",
      "And it's not over yet. \"Hello, world!\" \n",
      "Still here.\n",
      "This is a very long string. It continues here. \n",
      "And it's not over yet. \"Hello, world!\" \n",
      "Still here.\n",
      "C:\\Program Files\\fnord\\foo\\bar\\baz\\frozz\\bozz\n",
      "Let\\'s go!\n",
      "C:\\Program Files\\foo\\bar\\\n",
      "first, second and third\n",
      "to be or not to be\n",
      "3 2 4 1\n",
      "Mr Smoketoomuch\n",
      "         3\n",
      "Pi day is 3.14\n",
      "     The Middle by Jimmy Eat World     \n",
      "3\n",
      "['1', '2', '3', '4', '5']\n",
      "/usr/bin/env\n",
      "['1', '2', '3', '4', '5']\n",
      "['', 'usr', 'bin', 'env']\n",
      "['Using', 'the', 'default']\n",
      "internal whitespace is kept\n"
     ]
    }
   ],
   "source": [
    "# string is immutable type\n",
    "\n",
    "print(\"Hello, world!\")\n",
    "print('\"Hello, world!\" she said')\n",
    "print(\"Let's go!\")\n",
    "print('Let\\'s go!')\n",
    "print(\"\\\"Hello, world!\\\" she said\")\n",
    "print('Let\\'s say \"Hello, world!\"')\n",
    "\n",
    "# automatic contanate the string\n",
    "print(\"Let's say \" '\"Hello, world!\"')\n",
    "print(\"Hello, \" + \"world!\")\n",
    "\n",
    "print(\"Hello,\\nworld!\" )\n",
    "# output the string, not string value\n",
    "print(repr(\"Hello,\\nworld!\"))\n",
    "\n",
    "# multi-lines string\n",
    "print('''This is a very long string. It continues here. \n",
    "And it's not over yet. \"Hello, world!\" \n",
    "Still here.''')\n",
    "print(\"\"\"This is a very long string. It continues here. \n",
    "And it's not over yet. \"Hello, world!\" \n",
    "Still here.\"\"\")\n",
    "\n",
    "# raw string, ignore the \\\n",
    "print(r'C:\\Program Files\\fnord\\foo\\bar\\baz\\frozz\\bozz') \n",
    "print(r'Let\\'s go!') \n",
    "\n",
    "# can't end with \\ for raw string\n",
    "#print(r\"This is illegal\\\")  \n",
    "\n",
    "# deal with end \\ seperately\n",
    "print(r'C:\\Program Files\\foo\\bar' '\\\\') \n",
    "\n",
    "# format string\n",
    "print(\"{0}, {1} and {2}\".format(\"first\", \"second\", \"third\"))\n",
    "print(\"{3} {0} {2} {1} {3} {0}\".format(\"be\", \"not\", \"or\", \"to\"))\n",
    "\n",
    "from math import pi\n",
    "\"{name} is approximately {value:.2f}.\".format(value=pi, name=\"π\") \n",
    "\n",
    "print(\"{foo} {1} {bar} {0}\".format(1, 2, bar=4, foo=3))\n",
    "\n",
    "fullname = [\"Alfred\", \"Smoketoomuch\"]\n",
    "print(\"Mr {name[1]}\".format(name=fullname))\n",
    "\n",
    "# set the width and precision\n",
    "print(\"{num:10}\".format(num=3)) \n",
    "print(\"Pi day is {pi:.2f}\".format(pi=pi))\n",
    "\n",
    "# string center\n",
    "print(\"The Middle by Jimmy Eat World\".center(39))\n",
    "\n",
    "# string find\n",
    "subject = 'trt!!!'\n",
    "print(subject.find('!!!', 0, 16))\n",
    "\n",
    "# string join\n",
    "sep = '+' \n",
    "seq = ['1', '2', '3', '4', '5'] \n",
    "sep.join(seq)\n",
    "print(seq)\n",
    "\n",
    "dirs = '', 'usr', 'bin', 'env' \n",
    "print('/'.join(dirs))\n",
    "\n",
    "# split\n",
    "print('1+2+3+4+5'.split('+'))\n",
    "print('/usr/bin/env'.split('/'))\n",
    "print('Using the default'.split())\n",
    "print(' internal whitespace is kept '.strip())\n",
    "\n",
    "# check strings\n",
    "# isalnum、isalpha、isdecimal、isdigit、isidentifier、islower、isnumeric、\n",
    "# isprintable、isspace、istitle、isupper"
   ]
  },
  {
   "cell_type": "code",
   "execution_count": 31,
   "metadata": {},
   "outputs": [
    {
     "name": "stdout",
     "output_type": "stream",
     "text": [
      "[['Edward Gumby', 42], ['John Smith', 50]]\n",
      "H\n",
      "o\n",
      "http://www.python.org\n",
      "Python web site\n",
      "[4, 5, 6]\n",
      "[1]\n",
      "[8, 9]\n",
      "[8, 9, 10]\n",
      "[1, 2, 3]\n",
      "[1, 2, 3, 4, 5, 6, 7, 8, 9, 10]\n",
      "[1, 3, 5, 7, 9]\n",
      "[1, 5, 9]\n",
      "[10, 8, 6, 4, 2]\n",
      "[1, 2, 3, 4, 5, 6]\n",
      "pythonpythonpythonpythonpython\n",
      "[None, None, None, None, None, None, None, None, None, None]\n",
      "True\n",
      "['H', 'e', 'l', 'l', 'o']\n",
      "she\n",
      "[1, 2, 3, 4, 5]\n",
      "[1, 2, 3]\n"
     ]
    }
   ],
   "source": [
    "# list and tuple\n",
    "edward = ['Edward Gumby', 42]\n",
    "john = ['John Smith', 50]\n",
    "database = [edward, john] \n",
    "print(database)\n",
    "\n",
    "# index\n",
    "greeting = 'Hello' \n",
    "print(greeting[0])\n",
    "print(greeting[-1])\n",
    "\n",
    "# slice, open-close\n",
    "tag = '<a href=\"http://www.python.org\">Python web site</a>' \n",
    "print(tag[9:30])\n",
    "print(tag[32:-4])\n",
    "numbers = [1, 2, 3, 4, 5, 6, 7, 8, 9, 10]\n",
    "print(numbers[3:6])\n",
    "print(numbers[0:1])\n",
    "print(numbers[-3:-1])\n",
    "# to the end\n",
    "print(numbers[-3:])\n",
    "# from the head\n",
    "print(numbers[:3])\n",
    "# the whole sequence\n",
    "print(numbers[:])\n",
    "# slice with step\n",
    "print(numbers[0:10:2])\n",
    "print(numbers[::4])\n",
    "print(numbers[10:0:-2]) \n",
    "\n",
    "# list add\n",
    "print( [1, 2, 3] + [4, 5, 6] )\n",
    "\n",
    "# list multiple\n",
    "print('python' * 5 )\n",
    "\n",
    "# list with 10 length and nothing in it\n",
    "sequence = [None] * 10\n",
    "print(sequence)\n",
    "\n",
    "# check in\n",
    "print('foo' in ['foo', 'txt'])\n",
    "\n",
    "# string to list\n",
    "print(list('Hello'))\n",
    "\n",
    "# list to string\n",
    "print(''.join(['s', 'h', 'e'])) \n",
    "\n",
    "# delete element\n",
    "names = ['Alice', 'Beth', 'Cecil', 'Dee-Dee', 'Earl']\n",
    "del names[2] \n",
    "\n",
    "# slice replacement\n",
    "name = list('Perl') \n",
    "name[1:] = list('ython') \n",
    "\n",
    "# slice insert\n",
    "numbers = [1, 5] \n",
    "numbers[1:1] = [2, 3, 4]\n",
    "print(numbers)\n",
    "\n",
    "# append\n",
    "numbers.append(4) \n",
    "\n",
    "# deep copy\n",
    "a = [1, 2, 3] \n",
    "b = a.copy()\n",
    "print(b)\n",
    "\n",
    "# extend, add to the tail\n",
    "a.extend(b)\n",
    "\n",
    "# index, find the first place it occurs\n",
    "a.index(1) \n",
    "\n",
    "# insert to the list\n",
    "numbers = [1, 2, 3, 5, 6, 7] \n",
    "numbers.insert(3, 'four')\n",
    "print(numbers)\n",
    "\n",
    "# pop the last element\n",
    "x = [1, 2, 3]\n",
    "print(x.pop())\n",
    "print(x)\n",
    "\n",
    "# remove\n",
    "x = ['to', 'be', 'or', 'not', 'to', 'be'] \n",
    "x.remove('be')\n",
    "print(x)\n"
   ]
  },
  {
   "cell_type": "code",
   "execution_count": 34,
   "metadata": {},
   "outputs": [
    {
     "name": "stdout",
     "output_type": "stream",
     "text": [
      "1 2 3\n",
      "(1, 2, 3)\n",
      "()\n",
      "(1,)\n"
     ]
    }
   ],
   "source": [
    "# tuple, immuntable\n",
    "print(1,2,3)\n",
    "print((1, 2, 3))\n",
    "\n",
    "# empty tuple\n",
    "print(())\n",
    "\n",
    "# single value tuple\n",
    "print((1,))\n",
    "\n",
    "# list to tuple\n",
    "print(tuple([1, 2, 3]))\n",
    "\n",
    "# tuple to slice\n",
    "x = 1, 2, 3\n",
    "print(x[0:2])\n"
   ]
  },
  {
   "cell_type": "code",
   "execution_count": 48,
   "metadata": {},
   "outputs": [
    {
     "name": "stdout",
     "output_type": "stream",
     "text": [
      "{'name': 'Gumby', 'age': 42}\n",
      "{'name': 'Gumby', 'age': 42}\n",
      "Cecil's phone number is 3258.\n",
      "{'name': None, 'age': None}\n",
      "Gumby\n",
      "dict_items([('Alice', '2341'), ('Beth', '9102'), ('Cecil', '3258')])\n",
      "[('name', 'Gumby'), ('age', 42)]\n",
      "[(1, 2), ('age', 42)]\n",
      "dict_items([('name', 'Gumby'), ('age', 42)])\n"
     ]
    }
   ],
   "source": [
    "# map\n",
    "phonebook = {'Alice': '2341', 'Beth': '9102', 'Cecil': '3258'} \n",
    "\n",
    "# change from list\n",
    "items = [('name', 'Gumby'), ('age', 42)]\n",
    "print(dict(items))\n",
    "\n",
    "d = dict(name='Gumby', age=42) \n",
    "print(d)\n",
    "\n",
    "# del d[k]\n",
    "# k in d\n",
    "\n",
    "# use map in format\n",
    "print(\"Cecil's phone number is {Cecil}.\".format_map(phonebook))\n",
    "\n",
    "print({}.fromkeys(['name', 'age']))\n",
    "\n",
    "# return none if not exists\n",
    "print(d.get('name'))\n",
    "\n",
    "# return tuple list, this is map view, share the same underlying memory with dict\n",
    "print(phonebook.items())\n",
    "\n",
    "# change the map list to list, deep copy\n",
    "nl = list(d.items())\n",
    "print(nl)\n",
    "nl[0]=(1, 2)\n",
    "print(nl)\n",
    "print(d.items())\n",
    "\n",
    "# update, use one map to update other map\n",
    "x={1:2}\n",
    "d.update(x)"
   ]
  },
  {
   "cell_type": "code",
   "execution_count": 49,
   "metadata": {},
   "outputs": [
    {
     "name": "stdout",
     "output_type": "stream",
     "text": [
      "Age: 42\n"
     ]
    }
   ],
   "source": [
    "# put multiple expression in the print\n",
    "print('Age:', 42)\n",
    "print(\"I\", \"wish\", \"to\", \"register\", \"a\", \"complaint\", sep=\"_\") "
   ]
  },
  {
   "cell_type": "code",
   "execution_count": null,
   "metadata": {},
   "outputs": [],
   "source": [
    "# import somemodule\n",
    "# from somemodule import somefunction \n",
    "\n",
    "# import module, use a nickname\n",
    "import math as foobar \n",
    "\n",
    "# import function, use a nickname\n",
    "from math import sqrt as foobar"
   ]
  },
  {
   "cell_type": "code",
   "execution_count": null,
   "metadata": {},
   "outputs": [],
   "source": [
    "# assignment\n",
    "x, y, z = 1, 2, 3\n",
    "\n",
    "# exchange\n",
    "x, y = y, x\n",
    "\n",
    "# tuple\n",
    "values = 1, 2, 3 \n",
    "x, y, z = values\n",
    "print(x)\n",
    "\n",
    "\n",
    "scoundrel = {'name': 'Robin', 'girlfriend': 'Marion'}\n",
    "key, value = scoundrel.popitem()\n",
    "print(key)"
   ]
  },
  {
   "cell_type": "code",
   "execution_count": 50,
   "metadata": {},
   "outputs": [
    {
     "name": "stdout",
     "output_type": "stream",
     "text": [
      "name corresponds to Gumby\n",
      "age corresponds to 42\n",
      "1 corresponds to 2\n"
     ]
    }
   ],
   "source": [
    "# all false in judgement\n",
    "# False None 0 \"\" () [] {} \n",
    "\n",
    "for key, value in d.items(): \n",
    "    print(key, 'corresponds to', value) "
   ]
  },
  {
   "cell_type": "code",
   "execution_count": 57,
   "metadata": {},
   "outputs": [
    {
     "name": "stdout",
     "output_type": "stream",
     "text": [
      "anne is 12 years old\n",
      "beth is 45 years old\n",
      "george is 32 years old\n",
      "damon is 102 years old\n",
      "<zip object at 0x10a853380>\n",
      "[('anne', 12), ('beth', 45), ('george', 32), ('damon', 102)]\n",
      "[(0, 0), (1, 1), (2, 2), (3, 3), (4, 4)]\n",
      "range(0, 10, 2)\n",
      "[0, 1, 4, 9, 16, 25, 36, 49, 64, 81]\n",
      "Hello, world!\n"
     ]
    },
    {
     "data": {
      "text/plain": [
       "3"
      ]
     },
     "execution_count": 57,
     "metadata": {},
     "output_type": "execute_result"
    }
   ],
   "source": [
    "names = ['anne', 'beth', 'george', 'damon'] \n",
    "ages = [12, 45, 32, 102] \n",
    "\n",
    "for i in range(len(names)): \n",
    "    print(names[i], 'is', ages[i], 'years old')\n",
    "\n",
    "print(zip(names, ages))\n",
    "print(list(zip(names, ages))) \n",
    "\n",
    "print(list(zip(range(5), range(100000000))))\n",
    "\n",
    "print(range(0, 10, 2))\n",
    "\n",
    "print([x * x for x in range(10)])\n",
    "\n",
    "# use 'pass' to replace empty code block\n",
    "if name == 'Ralph Auldus Melish': \n",
    " print('Welcome!') \n",
    "elif name == 'Enid': \n",
    " # do nothing\n",
    " pass \n",
    "elif name == 'Bill Gates': \n",
    " print('Access Denied')\n",
    "\n",
    "# del to release the variable and the memory\n",
    "x = 1\n",
    "del x\n",
    "\n",
    "# exec\n",
    "exec(\"print('Hello, world!')\")\n",
    "eval(\"1+2\")"
   ]
  },
  {
   "cell_type": "code",
   "execution_count": 61,
   "metadata": {},
   "outputs": [
    {
     "name": "stdout",
     "output_type": "stream",
     "text": [
      "Calculates the square of the number x.\n",
      "Help on function square in module __main__:\n",
      "\n",
      "square(x)\n",
      "    Calculates the square of the number x.\n",
      "\n",
      "1\n"
     ]
    }
   ],
   "source": [
    "# doc the function\n",
    "def square(x): \n",
    " 'Calculates the square of the number x.' \n",
    " return x * x\n",
    "\n",
    "print(square.__doc__)\n",
    "help(square)\n",
    "\n",
    "# keyword params\n",
    "# store(patient='Mr. Brainsample', hour=10, minute=20, day=13, month=5)\n",
    "\n",
    "# variable params\n",
    "# def print_params_2(title, *params)\n",
    "\n",
    "# global() solves the problem of hidden issue\n",
    "def combine(parameter): \n",
    "    print(parameter + globals()['parameter'])\n",
    "\n",
    "# change global inside the function\n",
    "x = 1 \n",
    "def change_global(): \n",
    "    global x \n",
    "    x = x + 1\n",
    "print(1)"
   ]
  },
  {
   "cell_type": "code",
   "execution_count": null,
   "metadata": {},
   "outputs": [],
   "source": []
  }
 ],
 "metadata": {
  "kernelspec": {
   "display_name": "base",
   "language": "python",
   "name": "python3"
  },
  "language_info": {
   "codemirror_mode": {
    "name": "ipython",
    "version": 3
   },
   "file_extension": ".py",
   "mimetype": "text/x-python",
   "name": "python",
   "nbconvert_exporter": "python",
   "pygments_lexer": "ipython3",
   "version": "3.12.4"
  }
 },
 "nbformat": 4,
 "nbformat_minor": 2
}
