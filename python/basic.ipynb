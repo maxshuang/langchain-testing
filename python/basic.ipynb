{
 "cells": [
  {
   "cell_type": "code",
   "execution_count": 22,
   "metadata": {},
   "outputs": [
    {
     "name": "stdout",
     "output_type": "stream",
     "text": [
      "0.5\n",
      "0.5\n",
      "0\n",
      "2.0\n",
      "-4\n",
      "0.5\n"
     ]
    }
   ],
   "source": [
    "print(1/2)\n",
    "print(1/2.0)\n",
    "\n",
    "# for only int output\n",
    "print(1 // 2) \n",
    "print(5.0 // 2.4) \n",
    "print(-10 // 3)\n",
    "\n",
    "# for only int output\n",
    "from __future__ import division\n",
    "print(1/2) "
   ]
  },
  {
   "cell_type": "code",
   "execution_count": 23,
   "metadata": {},
   "outputs": [
    {
     "name": "stdout",
     "output_type": "stream",
     "text": [
      "4\n",
      "-4\n",
      "4\n",
      "4\n",
      "10000\n",
      "175\n",
      "8\n",
      "10\n",
      "2\n"
     ]
    }
   ],
   "source": [
    "# pow and the priority\n",
    "print(2 ** 2)\n",
    "print(-2 ** 2) \n",
    "print((-2) ** 2) \n",
    "print(pow(2, 2))\n",
    "\n",
    "# long int has been automatically handled in python 3\n",
    "print(10000)\n",
    "\n",
    "# 0x and 0o\n",
    "print(0xAF)\n",
    "print(0o10)\n",
    "\n",
    "print(abs(-10))\n",
    "print(round(2.47))\n",
    "#print(input(\"x:\"))"
   ]
  },
  {
   "cell_type": "code",
   "execution_count": 11,
   "metadata": {},
   "outputs": [
    {
     "data": {
      "text/plain": [
       "1j"
      ]
     },
     "execution_count": 11,
     "metadata": {},
     "output_type": "execute_result"
    }
   ],
   "source": [
    "#from math import sqrt\n",
    "#sqrt(-1)\n",
    "\n",
    "# for complex number\n",
    "import cmath\n",
    "cmath.sqrt(-1)"
   ]
  },
  {
   "cell_type": "code",
   "execution_count": 41,
   "metadata": {},
   "outputs": [
    {
     "name": "stdout",
     "output_type": "stream",
     "text": [
      "Hello, world!\n",
      "\"Hello, world!\" she said\n",
      "Let's go!\n",
      "Let's go!\n",
      "\"Hello, world!\" she said\n",
      "Let's say \"Hello, world!\"\n",
      "Let's say \"Hello, world!\"\n",
      "Hello, world!\n",
      "Hello,\n",
      "world!\n",
      "'Hello,\\nworld!'\n",
      "This is a very long string. It continues here. \n",
      "And it's not over yet. \"Hello, world!\" \n",
      "Still here.\n",
      "This is a very long string. It continues here. \n",
      "And it's not over yet. \"Hello, world!\" \n",
      "Still here.\n",
      "C:\\Program Files\\fnord\\foo\\bar\\baz\\frozz\\bozz\n",
      "Let\\'s go!\n",
      "C:\\Program Files\\foo\\bar\\\n",
      "first, second and third\n",
      "to be or not to be\n",
      "3 2 4 1\n",
      "Mr Smoketoomuch\n",
      "         3\n",
      "Pi day is 3.14\n",
      "     The Middle by Jimmy Eat World     \n",
      "3\n",
      "['1', '2', '3', '4', '5']\n",
      "/usr/bin/env\n",
      "['1', '2', '3', '4', '5']\n",
      "['', 'usr', 'bin', 'env']\n",
      "['Using', 'the', 'default']\n",
      "internal whitespace is kept\n"
     ]
    }
   ],
   "source": [
    "# string is immutable type\n",
    "\n",
    "print(\"Hello, world!\")\n",
    "print('\"Hello, world!\" she said')\n",
    "print(\"Let's go!\")\n",
    "print('Let\\'s go!')\n",
    "print(\"\\\"Hello, world!\\\" she said\")\n",
    "print('Let\\'s say \"Hello, world!\"')\n",
    "\n",
    "# automatic contanate the string\n",
    "print(\"Let's say \" '\"Hello, world!\"')\n",
    "print(\"Hello, \" + \"world!\")\n",
    "\n",
    "print(\"Hello,\\nworld!\" )\n",
    "# output the string, not string value\n",
    "print(repr(\"Hello,\\nworld!\"))\n",
    "\n",
    "# multi-lines string\n",
    "print('''This is a very long string. It continues here. \n",
    "And it's not over yet. \"Hello, world!\" \n",
    "Still here.''')\n",
    "print(\"\"\"This is a very long string. It continues here. \n",
    "And it's not over yet. \"Hello, world!\" \n",
    "Still here.\"\"\")\n",
    "\n",
    "# raw string, ignore the \\\n",
    "print(r'C:\\Program Files\\fnord\\foo\\bar\\baz\\frozz\\bozz') \n",
    "print(r'Let\\'s go!') \n",
    "\n",
    "# can't end with \\ for raw string\n",
    "#print(r\"This is illegal\\\")  \n",
    "\n",
    "# deal with end \\ seperately\n",
    "print(r'C:\\Program Files\\foo\\bar' '\\\\') \n",
    "\n",
    "# format string\n",
    "print(\"{0}, {1} and {2}\".format(\"first\", \"second\", \"third\"))\n",
    "print(\"{3} {0} {2} {1} {3} {0}\".format(\"be\", \"not\", \"or\", \"to\"))\n",
    "\n",
    "from math import pi\n",
    "\"{name} is approximately {value:.2f}.\".format(value=pi, name=\"π\") \n",
    "\n",
    "print(\"{foo} {1} {bar} {0}\".format(1, 2, bar=4, foo=3))\n",
    "\n",
    "fullname = [\"Alfred\", \"Smoketoomuch\"]\n",
    "print(\"Mr {name[1]}\".format(name=fullname))\n",
    "\n",
    "# set the width and precision\n",
    "print(\"{num:10}\".format(num=3)) \n",
    "print(\"Pi day is {pi:.2f}\".format(pi=pi))\n",
    "\n",
    "# string center\n",
    "print(\"The Middle by Jimmy Eat World\".center(39))\n",
    "\n",
    "# string find\n",
    "subject = 'trt!!!'\n",
    "print(subject.find('!!!', 0, 16))\n",
    "\n",
    "# string join\n",
    "sep = '+' \n",
    "seq = ['1', '2', '3', '4', '5'] \n",
    "sep.join(seq)\n",
    "print(seq)\n",
    "\n",
    "dirs = '', 'usr', 'bin', 'env' \n",
    "print('/'.join(dirs))\n",
    "\n",
    "# split\n",
    "print('1+2+3+4+5'.split('+'))\n",
    "print('/usr/bin/env'.split('/'))\n",
    "print('Using the default'.split())\n",
    "print(' internal whitespace is kept '.strip())\n",
    "\n",
    "# check strings\n",
    "# isalnum、isalpha、isdecimal、isdigit、isidentifier、islower、isnumeric、\n",
    "# isprintable、isspace、istitle、isupper"
   ]
  },
  {
   "cell_type": "code",
   "execution_count": 31,
   "metadata": {},
   "outputs": [
    {
     "name": "stdout",
     "output_type": "stream",
     "text": [
      "[['Edward Gumby', 42], ['John Smith', 50]]\n",
      "H\n",
      "o\n",
      "http://www.python.org\n",
      "Python web site\n",
      "[4, 5, 6]\n",
      "[1]\n",
      "[8, 9]\n",
      "[8, 9, 10]\n",
      "[1, 2, 3]\n",
      "[1, 2, 3, 4, 5, 6, 7, 8, 9, 10]\n",
      "[1, 3, 5, 7, 9]\n",
      "[1, 5, 9]\n",
      "[10, 8, 6, 4, 2]\n",
      "[1, 2, 3, 4, 5, 6]\n",
      "pythonpythonpythonpythonpython\n",
      "[None, None, None, None, None, None, None, None, None, None]\n",
      "True\n",
      "['H', 'e', 'l', 'l', 'o']\n",
      "she\n",
      "[1, 2, 3, 4, 5]\n",
      "[1, 2, 3]\n"
     ]
    }
   ],
   "source": [
    "# list and tuple\n",
    "edward = ['Edward Gumby', 42]\n",
    "john = ['John Smith', 50]\n",
    "database = [edward, john] \n",
    "print(database)\n",
    "\n",
    "# index\n",
    "greeting = 'Hello' \n",
    "print(greeting[0])\n",
    "print(greeting[-1])\n",
    "\n",
    "# slice, open-close\n",
    "tag = '<a href=\"http://www.python.org\">Python web site</a>' \n",
    "print(tag[9:30])\n",
    "print(tag[32:-4])\n",
    "numbers = [1, 2, 3, 4, 5, 6, 7, 8, 9, 10]\n",
    "print(numbers[3:6])\n",
    "print(numbers[0:1])\n",
    "print(numbers[-3:-1])\n",
    "# to the end\n",
    "print(numbers[-3:])\n",
    "# from the head\n",
    "print(numbers[:3])\n",
    "# the whole sequence\n",
    "print(numbers[:])\n",
    "# slice with step\n",
    "print(numbers[0:10:2])\n",
    "print(numbers[::4])\n",
    "print(numbers[10:0:-2]) \n",
    "\n",
    "# list add\n",
    "print( [1, 2, 3] + [4, 5, 6] )\n",
    "\n",
    "# list multiple\n",
    "print('python' * 5 )\n",
    "\n",
    "# list with 10 length and nothing in it\n",
    "sequence = [None] * 10\n",
    "print(sequence)\n",
    "\n",
    "# check in\n",
    "print('foo' in ['foo', 'txt'])\n",
    "\n",
    "# string to list\n",
    "print(list('Hello'))\n",
    "\n",
    "# list to string\n",
    "print(''.join(['s', 'h', 'e'])) \n",
    "\n",
    "# delete element\n",
    "names = ['Alice', 'Beth', 'Cecil', 'Dee-Dee', 'Earl']\n",
    "del names[2] \n",
    "\n",
    "# slice replacement\n",
    "name = list('Perl') \n",
    "name[1:] = list('ython') \n",
    "\n",
    "# slice insert\n",
    "numbers = [1, 5] \n",
    "numbers[1:1] = [2, 3, 4]\n",
    "print(numbers)\n",
    "\n",
    "# append\n",
    "numbers.append(4) \n",
    "\n",
    "# deep copy\n",
    "a = [1, 2, 3] \n",
    "b = a.copy()\n",
    "print(b)\n",
    "\n",
    "# extend, add to the tail\n",
    "a.extend(b)\n",
    "\n",
    "# index, find the first place it occurs\n",
    "a.index(1) \n",
    "\n",
    "# insert to the list\n",
    "numbers = [1, 2, 3, 5, 6, 7] \n",
    "numbers.insert(3, 'four')\n",
    "print(numbers)\n",
    "\n",
    "# pop the last element\n",
    "x = [1, 2, 3]\n",
    "print(x.pop())\n",
    "print(x)\n",
    "\n",
    "# remove\n",
    "x = ['to', 'be', 'or', 'not', 'to', 'be'] \n",
    "x.remove('be')\n",
    "print(x)\n"
   ]
  },
  {
   "cell_type": "code",
   "execution_count": 34,
   "metadata": {},
   "outputs": [
    {
     "name": "stdout",
     "output_type": "stream",
     "text": [
      "1 2 3\n",
      "(1, 2, 3)\n",
      "()\n",
      "(1,)\n"
     ]
    }
   ],
   "source": [
    "# tuple, immuntable\n",
    "print(1,2,3)\n",
    "print((1, 2, 3))\n",
    "\n",
    "# empty tuple\n",
    "print(())\n",
    "\n",
    "# single value tuple\n",
    "print((1,))\n",
    "\n",
    "# list to tuple\n",
    "print(tuple([1, 2, 3]))\n",
    "\n",
    "# tuple to slice\n",
    "x = 1, 2, 3\n",
    "print(x[0:2])\n"
   ]
  },
  {
   "cell_type": "code",
   "execution_count": 48,
   "metadata": {},
   "outputs": [
    {
     "name": "stdout",
     "output_type": "stream",
     "text": [
      "{'name': 'Gumby', 'age': 42}\n",
      "{'name': 'Gumby', 'age': 42}\n",
      "Cecil's phone number is 3258.\n",
      "{'name': None, 'age': None}\n",
      "Gumby\n",
      "dict_items([('Alice', '2341'), ('Beth', '9102'), ('Cecil', '3258')])\n",
      "[('name', 'Gumby'), ('age', 42)]\n",
      "[(1, 2), ('age', 42)]\n",
      "dict_items([('name', 'Gumby'), ('age', 42)])\n"
     ]
    }
   ],
   "source": [
    "# map\n",
    "phonebook = {'Alice': '2341', 'Beth': '9102', 'Cecil': '3258'} \n",
    "\n",
    "# change from list\n",
    "items = [('name', 'Gumby'), ('age', 42)]\n",
    "print(dict(items))\n",
    "\n",
    "d = dict(name='Gumby', age=42) \n",
    "print(d)\n",
    "\n",
    "# del d[k]\n",
    "# k in d\n",
    "\n",
    "# use map in format\n",
    "print(\"Cecil's phone number is {Cecil}.\".format_map(phonebook))\n",
    "\n",
    "print({}.fromkeys(['name', 'age']))\n",
    "\n",
    "# return none if not exists\n",
    "print(d.get('name'))\n",
    "\n",
    "# return tuple list, this is map view, share the same underlying memory with dict\n",
    "print(phonebook.items())\n",
    "\n",
    "# change the map list to list, deep copy\n",
    "nl = list(d.items())\n",
    "print(nl)\n",
    "nl[0]=(1, 2)\n",
    "print(nl)\n",
    "print(d.items())\n",
    "\n",
    "# update, use one map to update other map\n",
    "x={1:2}\n",
    "d.update(x)"
   ]
  },
  {
   "cell_type": "code",
   "execution_count": 49,
   "metadata": {},
   "outputs": [
    {
     "name": "stdout",
     "output_type": "stream",
     "text": [
      "Age: 42\n"
     ]
    }
   ],
   "source": [
    "# put multiple expression in the print\n",
    "print('Age:', 42)\n",
    "print(\"I\", \"wish\", \"to\", \"register\", \"a\", \"complaint\", sep=\"_\") "
   ]
  },
  {
   "cell_type": "code",
   "execution_count": null,
   "metadata": {},
   "outputs": [],
   "source": [
    "# import somemodule\n",
    "# from somemodule import somefunction \n",
    "\n",
    "# import module, use a nickname\n",
    "import math as foobar \n",
    "\n",
    "# import function, use a nickname\n",
    "from math import sqrt as foobar"
   ]
  },
  {
   "cell_type": "code",
   "execution_count": null,
   "metadata": {},
   "outputs": [],
   "source": [
    "# assignment\n",
    "x, y, z = 1, 2, 3\n",
    "\n",
    "# exchange\n",
    "x, y = y, x\n",
    "\n",
    "# tuple\n",
    "values = 1, 2, 3 \n",
    "x, y, z = values\n",
    "print(x)\n",
    "\n",
    "\n",
    "scoundrel = {'name': 'Robin', 'girlfriend': 'Marion'}\n",
    "key, value = scoundrel.popitem()\n",
    "print(key)"
   ]
  },
  {
   "cell_type": "code",
   "execution_count": 50,
   "metadata": {},
   "outputs": [
    {
     "name": "stdout",
     "output_type": "stream",
     "text": [
      "name corresponds to Gumby\n",
      "age corresponds to 42\n",
      "1 corresponds to 2\n"
     ]
    }
   ],
   "source": [
    "# all false in judgement\n",
    "# False None 0 \"\" () [] {} \n",
    "\n",
    "for key, value in d.items(): \n",
    "    print(key, 'corresponds to', value) "
   ]
  },
  {
   "cell_type": "code",
   "execution_count": 57,
   "metadata": {},
   "outputs": [
    {
     "name": "stdout",
     "output_type": "stream",
     "text": [
      "anne is 12 years old\n",
      "beth is 45 years old\n",
      "george is 32 years old\n",
      "damon is 102 years old\n",
      "<zip object at 0x10a853380>\n",
      "[('anne', 12), ('beth', 45), ('george', 32), ('damon', 102)]\n",
      "[(0, 0), (1, 1), (2, 2), (3, 3), (4, 4)]\n",
      "range(0, 10, 2)\n",
      "[0, 1, 4, 9, 16, 25, 36, 49, 64, 81]\n",
      "Hello, world!\n"
     ]
    },
    {
     "data": {
      "text/plain": [
       "3"
      ]
     },
     "execution_count": 57,
     "metadata": {},
     "output_type": "execute_result"
    }
   ],
   "source": [
    "names = ['anne', 'beth', 'george', 'damon'] \n",
    "ages = [12, 45, 32, 102] \n",
    "\n",
    "for i in range(len(names)): \n",
    "    print(names[i], 'is', ages[i], 'years old')\n",
    "\n",
    "print(zip(names, ages))\n",
    "print(list(zip(names, ages))) \n",
    "\n",
    "print(list(zip(range(5), range(100000000))))\n",
    "\n",
    "print(range(0, 10, 2))\n",
    "\n",
    "print([x * x for x in range(10)])\n",
    "\n",
    "# use 'pass' to replace empty code block\n",
    "if name == 'Ralph Auldus Melish': \n",
    " print('Welcome!') \n",
    "elif name == 'Enid': \n",
    " # do nothing\n",
    " pass \n",
    "elif name == 'Bill Gates': \n",
    " print('Access Denied')\n",
    "\n",
    "# del to release the variable and the memory\n",
    "x = 1\n",
    "del x\n",
    "\n",
    "# exec\n",
    "exec(\"print('Hello, world!')\")\n",
    "eval(\"1+2\")"
   ]
  },
  {
   "cell_type": "code",
   "execution_count": 61,
   "metadata": {},
   "outputs": [
    {
     "name": "stdout",
     "output_type": "stream",
     "text": [
      "Calculates the square of the number x.\n",
      "Help on function square in module __main__:\n",
      "\n",
      "square(x)\n",
      "    Calculates the square of the number x.\n",
      "\n",
      "1\n"
     ]
    }
   ],
   "source": [
    "# doc the function\n",
    "def square(x): \n",
    " 'Calculates the square of the number x.' \n",
    " return x * x\n",
    "\n",
    "print(square.__doc__)\n",
    "help(square)\n",
    "\n",
    "# keyword params\n",
    "# store(patient='Mr. Brainsample', hour=10, minute=20, day=13, month=5)\n",
    "\n",
    "# variable params\n",
    "# def print_params_2(title, *params)\n",
    "\n",
    "# global() solves the problem of hidden issue\n",
    "def combine(parameter): \n",
    "    print(parameter + globals()['parameter'])\n",
    "\n",
    "# change global inside the function\n",
    "x = 1 \n",
    "def change_global(): \n",
    "    global x \n",
    "    x = x + 1\n",
    "print(1)"
   ]
  },
  {
   "cell_type": "code",
   "execution_count": 73,
   "metadata": {},
   "outputs": [
    {
     "name": "stdout",
     "output_type": "stream",
     "text": [
      "Hello, world! I'm Anonymous.\n",
      "Bet you can't see me ...\n",
      "True\n",
      "(<class '__main__.Filter'>,)\n",
      "(<class 'object'>,)\n",
      "True\n",
      "True\n",
      "False\n",
      "<class '__main__.SPAMFilter'>\n"
     ]
    }
   ],
   "source": [
    "class Person:\n",
    "    # static attribute for the class\n",
    "    song = 'Squaawk!'\n",
    "    def __init__(self):\n",
    "        # attribute for every instance\n",
    "        self.name = None\n",
    "\n",
    "    # python doesn't have the access control like public/private\n",
    "    # private method, hidden, but you can hack it, like _Person__inaccessible\n",
    "    def __inaccessible(self): \n",
    "        print(\"Bet you can't see me ...\")\n",
    "\n",
    "    def set_name(self, name): \n",
    "        self.name = name \n",
    "    def get_name(self): \n",
    "        return self.name \n",
    "    def greet(self): \n",
    "        print(\"Hello, world! I'm {}.\".format(self.name))\n",
    "\n",
    "foo = Person()\n",
    "foo.set_name(\"Anonymous\")\n",
    "foo.greet()\n",
    "foo. _Person__inaccessible()\n",
    "\n",
    "\n",
    "# super class and inheritant\n",
    "class Filter: \n",
    "    def init(self): \n",
    "        self.blocked = [] \n",
    "    \n",
    "    def filter(self, sequence): \n",
    "        return [x for x in sequence if x not in self.blocked] \n",
    "\n",
    "class SPAMFilter(Filter): # SPAMFilter is the subclass of Filter\n",
    "    def init(self): # rewrite the init method\n",
    "        self.blocked = ['SPAM']\n",
    "\n",
    "# check if the baseclass\n",
    "print(issubclass(SPAMFilter, Filter))\n",
    "\n",
    "# check the base class\n",
    "print(SPAMFilter.__bases__)\n",
    "print(Filter.__bases__)\n",
    "\n",
    "s = SPAMFilter()\n",
    "print(isinstance(s, SPAMFilter))\n",
    "print(isinstance(s, Filter))\n",
    "print(isinstance(s, str))\n",
    "\n",
    "print(s.__class__ )"
   ]
  },
  {
   "cell_type": "code",
   "execution_count": null,
   "metadata": {},
   "outputs": [],
   "source": [
    "class MyClass:\n",
    "    def __init__(self):\n",
    "        self.public_attribute = \"I am public\"\n",
    "        # protected, only name convention\n",
    "        self._protected_attribute = \"I am protected\"\n",
    "        # private\n",
    "        self.__private_attribute = \"I am private\"\n",
    "\n",
    "    def public_method(self):\n",
    "        return \"This is a public method\"\n",
    "\n",
    "    def _protected_method(self):\n",
    "        return \"This is a protected method\"\n",
    "\n",
    "    def __private_method(self):\n",
    "        return \"This is a private method\"\n",
    "\n",
    "    def access_private_method(self):\n",
    "        return self.__private_method()\n",
    "\n",
    "# Creating an instance of MyClass\n",
    "obj = MyClass()\n",
    "\n",
    "# Accessing public attribute and method\n",
    "print(obj.public_attribute)  # Output: I am public\n",
    "print(obj.public_method())   # Output: This is a public method\n",
    "\n",
    "# Accessing protected attribute and method (not recommended)\n",
    "print(obj._protected_attribute)  # Output: I am protected\n",
    "print(obj._protected_method())   # Output: This is a protected method\n",
    "\n",
    "# Accessing private attribute and method (will raise an AttributeError)\n",
    "# print(obj.__private_attribute)  # Raises AttributeError\n",
    "# print(obj.__private_method())   # Raises AttributeError\n",
    "\n",
    "# Accessing private method through a public method\n",
    "print(obj.access_private_method())  # Output: This is a private method\n"
   ]
  },
  {
   "cell_type": "code",
   "execution_count": null,
   "metadata": {},
   "outputs": [],
   "source": [
    "# multiple base class\n",
    "class Calculator: \n",
    " def calculate(self, expression): \n",
    "    self.value = eval(expression) \n",
    "\n",
    "class Talker: \n",
    " def talk(self): \n",
    "    print('Hi, my value is', self.value) \n",
    "\n",
    "class TalkingCalculator(Calculator, Talker): \n",
    " pass"
   ]
  },
  {
   "cell_type": "code",
   "execution_count": 75,
   "metadata": {},
   "outputs": [
    {
     "name": "stdout",
     "output_type": "stream",
     "text": [
      "Ni!\n"
     ]
    }
   ],
   "source": [
    "from abc import ABC, abstractmethod\n",
    "\n",
    "# abstract base class for interface\n",
    "class Talker(ABC): \n",
    "    @abstractmethod \n",
    "    def talk(self): \n",
    "        pass \n",
    " \n",
    "class Knigget(Talker): \n",
    "    def talk(self): \n",
    "        print(\"Ni!\") \n",
    "\n",
    "kg = Knigget()\n",
    "print(isinstance(kg, Talker))\n",
    "kg.talk()"
   ]
  },
  {
   "cell_type": "code",
   "execution_count": 78,
   "metadata": {},
   "outputs": [
    {
     "ename": "KeyboardInterrupt",
     "evalue": "Interrupted by user",
     "output_type": "error",
     "traceback": [
      "\u001b[0;31m---------------------------------------------------------------------------\u001b[0m",
      "\u001b[0;31mKeyboardInterrupt\u001b[0m                         Traceback (most recent call last)",
      "Cell \u001b[0;32mIn[78], line 10\u001b[0m\n\u001b[1;32m      8\u001b[0m \u001b[38;5;66;03m# capture exception\u001b[39;00m\n\u001b[1;32m      9\u001b[0m \u001b[38;5;28;01mtry\u001b[39;00m: \n\u001b[0;32m---> 10\u001b[0m     x \u001b[38;5;241m=\u001b[39m \u001b[38;5;28mint\u001b[39m(\u001b[38;5;28minput\u001b[39m(\u001b[38;5;124m'\u001b[39m\u001b[38;5;124mEnter the first number: \u001b[39m\u001b[38;5;124m'\u001b[39m)) \n\u001b[1;32m     11\u001b[0m     y \u001b[38;5;241m=\u001b[39m \u001b[38;5;28mint\u001b[39m(\u001b[38;5;28minput\u001b[39m(\u001b[38;5;124m'\u001b[39m\u001b[38;5;124mEnter the second number: \u001b[39m\u001b[38;5;124m'\u001b[39m)) \n\u001b[1;32m     12\u001b[0m     \u001b[38;5;28mprint\u001b[39m(x \u001b[38;5;241m/\u001b[39m y) \n",
      "File \u001b[0;32m/opt/homebrew/anaconda3/lib/python3.12/site-packages/ipykernel/kernelbase.py:1262\u001b[0m, in \u001b[0;36mKernel.raw_input\u001b[0;34m(self, prompt)\u001b[0m\n\u001b[1;32m   1260\u001b[0m     msg \u001b[38;5;241m=\u001b[39m \u001b[38;5;124m\"\u001b[39m\u001b[38;5;124mraw_input was called, but this frontend does not support input requests.\u001b[39m\u001b[38;5;124m\"\u001b[39m\n\u001b[1;32m   1261\u001b[0m     \u001b[38;5;28;01mraise\u001b[39;00m StdinNotImplementedError(msg)\n\u001b[0;32m-> 1262\u001b[0m \u001b[38;5;28;01mreturn\u001b[39;00m \u001b[38;5;28mself\u001b[39m\u001b[38;5;241m.\u001b[39m_input_request(\n\u001b[1;32m   1263\u001b[0m     \u001b[38;5;28mstr\u001b[39m(prompt),\n\u001b[1;32m   1264\u001b[0m     \u001b[38;5;28mself\u001b[39m\u001b[38;5;241m.\u001b[39m_parent_ident[\u001b[38;5;124m\"\u001b[39m\u001b[38;5;124mshell\u001b[39m\u001b[38;5;124m\"\u001b[39m],\n\u001b[1;32m   1265\u001b[0m     \u001b[38;5;28mself\u001b[39m\u001b[38;5;241m.\u001b[39mget_parent(\u001b[38;5;124m\"\u001b[39m\u001b[38;5;124mshell\u001b[39m\u001b[38;5;124m\"\u001b[39m),\n\u001b[1;32m   1266\u001b[0m     password\u001b[38;5;241m=\u001b[39m\u001b[38;5;28;01mFalse\u001b[39;00m,\n\u001b[1;32m   1267\u001b[0m )\n",
      "File \u001b[0;32m/opt/homebrew/anaconda3/lib/python3.12/site-packages/ipykernel/kernelbase.py:1305\u001b[0m, in \u001b[0;36mKernel._input_request\u001b[0;34m(self, prompt, ident, parent, password)\u001b[0m\n\u001b[1;32m   1302\u001b[0m \u001b[38;5;28;01mexcept\u001b[39;00m \u001b[38;5;167;01mKeyboardInterrupt\u001b[39;00m:\n\u001b[1;32m   1303\u001b[0m     \u001b[38;5;66;03m# re-raise KeyboardInterrupt, to truncate traceback\u001b[39;00m\n\u001b[1;32m   1304\u001b[0m     msg \u001b[38;5;241m=\u001b[39m \u001b[38;5;124m\"\u001b[39m\u001b[38;5;124mInterrupted by user\u001b[39m\u001b[38;5;124m\"\u001b[39m\n\u001b[0;32m-> 1305\u001b[0m     \u001b[38;5;28;01mraise\u001b[39;00m \u001b[38;5;167;01mKeyboardInterrupt\u001b[39;00m(msg) \u001b[38;5;28;01mfrom\u001b[39;00m \u001b[38;5;28;01mNone\u001b[39;00m\n\u001b[1;32m   1306\u001b[0m \u001b[38;5;28;01mexcept\u001b[39;00m \u001b[38;5;167;01mException\u001b[39;00m:\n\u001b[1;32m   1307\u001b[0m     \u001b[38;5;28mself\u001b[39m\u001b[38;5;241m.\u001b[39mlog\u001b[38;5;241m.\u001b[39mwarning(\u001b[38;5;124m\"\u001b[39m\u001b[38;5;124mInvalid Message:\u001b[39m\u001b[38;5;124m\"\u001b[39m, exc_info\u001b[38;5;241m=\u001b[39m\u001b[38;5;28;01mTrue\u001b[39;00m)\n",
      "\u001b[0;31mKeyboardInterrupt\u001b[0m: Interrupted by user"
     ]
    }
   ],
   "source": [
    "# exception\n",
    "\n",
    "# raise Exception \n",
    "\n",
    "# self-defined exception\n",
    "class SomeCustomException(Exception): pass\n",
    "\n",
    "# capture exception\n",
    "try: \n",
    "    x = int(input('Enter the first number: ')) \n",
    "    y = int(input('Enter the second number: ')) \n",
    "    print(x / y) \n",
    "except ZeroDivisionError: \n",
    "    print(\"The second number can't be zero!\")\n",
    "\n",
    "try: \n",
    "    x = int(input('Enter the first number: ')) \n",
    "    y = int(input('Enter the second number: ')) \n",
    "    print(x / y) \n",
    "except ZeroDivisionError: \n",
    "    print(\"The second number can't be zero!\")\n",
    "    # alternatively, you can raise another exception\n",
    "    # raise ValueError\n",
    "\n",
    "try: \n",
    "    x = int(input('Enter the first number: ')) \n",
    "    y = int(input('Enter the second number: ')) \n",
    "    print(x / y) \n",
    "except ZeroDivisionError: \n",
    "    print(\"The second number can't be zero!\") \n",
    "except TypeError: \n",
    "    print(\"That wasn't a number, was it?\") \n",
    "\n",
    "try: \n",
    " x = int(input('Enter the first number: ')) \n",
    " y = int(input('Enter the second number: ')) \n",
    " print(x / y) \n",
    "except ZeroDivisionError: \n",
    " print(\"The second number can't be zero!\") \n",
    "except TypeError: \n",
    " print(\"That wasn't a number, was it?\") \n",
    "\n",
    "\n",
    "try: \n",
    " x = int(input('Enter the first number: ')) \n",
    " y = int(input('Enter the second number: ')) \n",
    " print(x / y) \n",
    "except (ZeroDivisionError, TypeError) as e: \n",
    " # capture exception object\n",
    " print(e) \n",
    "\n",
    "# capture all exceptions\n",
    "try: \n",
    " x = int(input('Enter the first number: ')) \n",
    " y = int(input('Enter the second number: ')) \n",
    " print(x / y) \n",
    "except: \n",
    " print('Something wrong happened ...')\n",
    "\n",
    "# else will run after no exception\n",
    "while True: \n",
    "    try: \n",
    "        x = int(input('Enter the first number: ')) \n",
    "        y = int(input('Enter the second number: ')) \n",
    "        value = x / y \n",
    "        print('x / y is', value) \n",
    "    except: \n",
    "        print('Invalid input. Please try again.') \n",
    "    else: \n",
    "        break \n",
    "\n",
    "# finally will exec no matter if it raises exceptions\n",
    "x = None \n",
    "try: \n",
    " x = 1 / 0 \n",
    "finally: \n",
    " print('Cleaning up ...') \n",
    " del x"
   ]
  },
  {
   "cell_type": "code",
   "execution_count": 79,
   "metadata": {},
   "outputs": [
    {
     "name": "stdout",
     "output_type": "stream",
     "text": [
      "This is a constructor argument\n"
     ]
    }
   ],
   "source": [
    "class FooBar: \n",
    " # constructor\n",
    " def __init__(self): \n",
    "    self.somevar = 42\n",
    "\n",
    "class FooBar2: \n",
    " def __init__(self, value=42): \n",
    "    self.somevar = value\n",
    "\n",
    "f = FooBar2('This is a constructor argument')\n",
    "print(f.somevar)"
   ]
  },
  {
   "cell_type": "code",
   "execution_count": null,
   "metadata": {},
   "outputs": [],
   "source": [
    "# type hint\n",
    "class FooBar2:\n",
    "    def __init__(self, value: int = 42):\n",
    "        if not isinstance(value, int):\n",
    "            raise TypeError(\"value must be an integer\")\n",
    "        self.somevar = value\n",
    "\n",
    "f = FooBar2(100)\n",
    "print(f.somevar)  # Output: 100\n",
    "\n",
    "# This will raise a TypeError\n",
    "# f = FooBar2('This is a constructor argument')"
   ]
  },
  {
   "cell_type": "code",
   "execution_count": null,
   "metadata": {},
   "outputs": [],
   "source": [
    "# pydantic for runtime type checking\n",
    "from pydantic import BaseModel, ValidationError \n",
    "\n",
    "class FooBar2(BaseModel): \n",
    "    somevar: int = 42 \n",
    "    \n",
    "try: \n",
    "    f = FooBar2(somevar=100) \n",
    "    print(f.somevar) # Output: 100 \n",
    "    \n",
    "    # This will raise a ValidationError \n",
    "    f = FooBar2(somevar='This is a constructor argument') \n",
    "except ValidationError as e: \n",
    "    print(e)"
   ]
  },
  {
   "cell_type": "code",
   "execution_count": null,
   "metadata": {},
   "outputs": [],
   "source": [
    "# __del__ for destructor"
   ]
  },
  {
   "cell_type": "code",
   "execution_count": null,
   "metadata": {},
   "outputs": [],
   "source": [
    "class A: \n",
    " def hello(self): \n",
    "    print(\"Hello, I'm A.\") \n",
    "\n",
    "class B(A): \n",
    " pass\n",
    "\n",
    "class B2(A): \n",
    " def hello(self): \n",
    "    print(\"Hello, I'm B.\")"
   ]
  },
  {
   "cell_type": "code",
   "execution_count": 81,
   "metadata": {},
   "outputs": [],
   "source": [
    "class Bird: \n",
    " def __init__(self): \n",
    "    self.hungry = True \n",
    " \n",
    " def eat(self): \n",
    "    if self.hungry: \n",
    "        print('Aaaah ...') \n",
    "        self.hungry = False \n",
    "    else: \n",
    "        print('No, thanks!')\n",
    "\n",
    "\n",
    "class SongBird(Bird): \n",
    "    def __init__(self): \n",
    "        # should call the super class's __init__\n",
    "        Bird.__init__(self)\n",
    "        self.sound = 'Squawk!' \n",
    "    \n",
    "    def sing(self): \n",
    "        print(self.sound)\n",
    "\n",
    "sb = SongBird()\n",
    "# raises AttributeError since the __init__ of the super class has not been called\n",
    "# SongBird.__init__ hides the Bird.__init__\n",
    "# sb.eat()"
   ]
  },
  {
   "cell_type": "code",
   "execution_count": null,
   "metadata": {},
   "outputs": [],
   "source": [
    "class Bird: \n",
    " def __init__(self): \n",
    "    self.hungry = True \n",
    " \n",
    " def eat(self): \n",
    "    if self.hungry: \n",
    "        print('Aaaah ...') \n",
    "        self.hungry = False \n",
    "    else: \n",
    "        print('No, thanks!') \n",
    "\n",
    "class SongBird(Bird): \n",
    " def __init__(self): \n",
    "    # even you have multiple base classes, you can call super once\n",
    "    super().__init__() \n",
    "    self.sound = 'Squawk!'\n",
    "\n",
    " def sing(self): \n",
    "    print(self.sound) "
   ]
  },
  {
   "cell_type": "code",
   "execution_count": null,
   "metadata": {},
   "outputs": [],
   "source": [
    "class CounterList(list): \n",
    " def __init__(self, *args): \n",
    "    super().__init__(*args) \n",
    "    self.counter = 0 \n",
    " \n",
    " def __getitem__(self, index): \n",
    "    self.counter += 1 \n",
    "    return super(CounterList, self).__getitem__(index) "
   ]
  },
  {
   "cell_type": "code",
   "execution_count": null,
   "metadata": {},
   "outputs": [],
   "source": [
    "class MyClass: \n",
    "    # static method is the function in the class namsepace, \n",
    "    # but it can't access class-level attributes \n",
    "    @staticmethod \n",
    "    def smeth(): \n",
    "        print('This is a static method') \n",
    "    \n",
    "    # class method is the function in the class namsepace,\n",
    "    #  it can access class-level attributes with the cls\n",
    "    @classmethod \n",
    "    def cmeth(cls): \n",
    "        print('This is a class method of', cls) "
   ]
  },
  {
   "cell_type": "code",
   "execution_count": null,
   "metadata": {},
   "outputs": [],
   "source": [
    "#__getattribute__(self, name)：在属性被访问时自动调用（只适用于新式类）。\n",
    "#__getattr__(self, name)：在属性被访问而对象没有这样的属性时自动调用。\n",
    "# __setattr__(self, name, value)：试图给属性赋值时自动调用。\n",
    "# __delattr__(self, name)：试图删除属性时自动调用。"
   ]
  },
  {
   "cell_type": "code",
   "execution_count": 82,
   "metadata": {},
   "outputs": [
    {
     "name": "stdout",
     "output_type": "stream",
     "text": [
      "Hello, world!\n"
     ]
    }
   ],
   "source": [
    "# hello3.py\n",
    "def hello(): \n",
    " print(\"Hello, world!\") \n",
    "\n",
    "def test(): \n",
    " hello() \n",
    "\n",
    "# check if the file is used as the exec or module\n",
    "# __name__ == __main__\n",
    "# __name__ == __hello3__\n",
    "if __name__ == '__main__': \n",
    "    test() "
   ]
  },
  {
   "cell_type": "code",
   "execution_count": 83,
   "metadata": {},
   "outputs": [
    {
     "name": "stdout",
     "output_type": "stream",
     "text": [
      "['/Users/maxhuang/projects/llm/langchain-testing/python',\n",
      " '/opt/homebrew/anaconda3/lib/python312.zip',\n",
      " '/opt/homebrew/anaconda3/lib/python3.12',\n",
      " '/opt/homebrew/anaconda3/lib/python3.12/lib-dynload',\n",
      " '',\n",
      " '/opt/homebrew/anaconda3/lib/python3.12/site-packages',\n",
      " '/opt/homebrew/anaconda3/lib/python3.12/site-packages/aeosa',\n",
      " '/opt/homebrew/anaconda3/lib/python3.12/site-packages/setuptools/_vendor']\n"
     ]
    }
   ],
   "source": [
    "import sys, pprint \n",
    "pprint.pprint(sys.path) \n"
   ]
  },
  {
   "cell_type": "code",
   "execution_count": 85,
   "metadata": {},
   "outputs": [
    {
     "name": "stdout",
     "output_type": "stream",
     "text": [
      "['Error', 'copy', 'deepcopy']\n",
      "Help on function copy in module copy:\n",
      "\n",
      "copy(x)\n",
      "    Shallow copy operation on arbitrary Python objects.\n",
      "\n",
      "    See the module's __doc__ string for more info.\n",
      "\n",
      "No Python documentation found for \"Shallow copy operation on arbitrary Python objects.\\n\\n    See the module's __doc__ string for more info.\".\n",
      "Use help() to get the interactive help utility.\n",
      "Use help(str) for help on the str class.\n",
      "\n"
     ]
    }
   ],
   "source": [
    "# package => modules => functions\n",
    "# package must has __init__.py\n",
    "\n",
    "import copy\n",
    "print(copy.__all__)\n",
    "help(copy.copy)\n",
    "help(copy.copy.__doc__)"
   ]
  },
  {
   "cell_type": "code",
   "execution_count": 86,
   "metadata": {},
   "outputs": [
    {
     "name": "stdout",
     "output_type": "stream",
     "text": [
      "deque([6, 0, 1, 2, 3, 4, 5])\n"
     ]
    }
   ],
   "source": [
    "from collections import deque \n",
    "\n",
    "q = deque(range(5)) \n",
    "q.append(5) \n",
    "q.appendleft(6) \n",
    "print(q)"
   ]
  },
  {
   "cell_type": "code",
   "execution_count": null,
   "metadata": {},
   "outputs": [],
   "source": [
    "# close the file automatically after exiting the scope\n",
    "with open(\"somefile.txt\") as somefile: \n",
    "    # do_something(somefile)\n",
    "    pass\n",
    "\n",
    "with open(\"test.txt\") as f: \n",
    " for line in f: \n",
    "    #process(line) "
   ]
  }
 ],
 "metadata": {
  "kernelspec": {
   "display_name": "base",
   "language": "python",
   "name": "python3"
  },
  "language_info": {
   "codemirror_mode": {
    "name": "ipython",
    "version": 3
   },
   "file_extension": ".py",
   "mimetype": "text/x-python",
   "name": "python",
   "nbconvert_exporter": "python",
   "pygments_lexer": "ipython3",
   "version": "3.12.4"
  }
 },
 "nbformat": 4,
 "nbformat_minor": 2
}
