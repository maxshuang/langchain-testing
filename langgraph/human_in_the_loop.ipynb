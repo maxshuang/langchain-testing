{
 "cells": [
  {
   "cell_type": "code",
   "execution_count": null,
   "metadata": {},
   "outputs": [],
   "source": [
    "from langgraph.checkpoint.memory import MemorySaver\n",
    "\n",
    "graph = builder.compile(checkpointer=MemorySaver())"
   ]
  },
  {
   "cell_type": "code",
   "execution_count": null,
   "metadata": {},
   "outputs": [],
   "source": [
    "# interrupt\n",
    "\n",
    "import asyncio\n",
    "\n",
    "event = asyncio.Event()\n",
    "\n",
    "input = {\n",
    "  \"messages\": [\n",
    "    HumanMessage(\"How old was the 30th president of the United States when he died?\")\n",
    "  ]\n",
    "}\n",
    "\n",
    "config = {\"configurable\": {\"thread_id\": \"1\"}}\n",
    "\n",
    "async with aclosing(graph.astream(input, config)) as stream:\n",
    "    async for chunk in stream:\n",
    "        if event.is_set():\n",
    "            break\n",
    "        else:\n",
    "            ... # do something with the output\n",
    "\n",
    "# Somewhere else in your application\n",
    "\n",
    "event.set()"
   ]
  },
  {
   "cell_type": "code",
   "execution_count": null,
   "metadata": {},
   "outputs": [],
   "source": [
    "# Authorize\n",
    "input = {\n",
    "  \"messages\": [\n",
    "    HumanMessage(\"How old was the 30th president of the United States when he died?\")\n",
    "  ]\n",
    "}\n",
    "\n",
    "config = {\"configurable\": {\"thread_id\": \"1\"}}\n",
    "\n",
    "output = graph.astream(input, config, interrupt_before=['tools'])\n",
    "\n",
    "async for c in output:\n",
    "    ... # do something with the output"
   ]
  },
  {
   "cell_type": "code",
   "execution_count": 1,
   "metadata": {},
   "outputs": [],
   "source": [
    "# Resume\n",
    "\n",
    "config = {\"configurable\": {\"thread_id\": \"1\"}}\n",
    "\n",
    "output = graph.astream(None, config, interrupt_before=['tools'])\n",
    "\n",
    "async for c in output:\n",
    "    ... # do something with the output"
   ]
  },
  {
   "cell_type": "code",
   "execution_count": null,
   "metadata": {},
   "outputs": [],
   "source": [
    "# Restart\n",
    "\n",
    "input = {\n",
    "  \"messages\": [\n",
    "    HumanMessage(\"How old was the 30th president of the United States when he died?\")\n",
    "  ]\n",
    "}\n",
    "\n",
    "config = {\"configurable\": {\"thread_id\": \"1\"}}\n",
    "\n",
    "output = graph.astream(input, config)\n",
    "\n",
    "async for c in output:\n",
    "    ... # do something with the output"
   ]
  },
  {
   "cell_type": "code",
   "execution_count": null,
   "metadata": {},
   "outputs": [],
   "source": [
    "# Edit State\n",
    "\n",
    "config = {\"configurable\": {\"thread_id\": \"1\"}}\n",
    "\n",
    "state = graph.get_state(config)\n",
    "\n",
    "# something you want to add or replace\n",
    "update = { }\n",
    "\n",
    "graph.update_state(config, update)"
   ]
  },
  {
   "cell_type": "code",
   "execution_count": null,
   "metadata": {},
   "outputs": [],
   "source": [
    "# Fork\n",
    "\n",
    "config = {\"configurable\": {\"thread_id\": \"1\"}}\n",
    "\n",
    "history = [\n",
    "  state for state in\n",
    "  graph.get_state_history(config)\n",
    "]\n",
    "\n",
    "# replay a past state\n",
    "graph.invoke(None, history[2].config)"
   ]
  }
 ],
 "metadata": {
  "kernelspec": {
   "display_name": "Python bitnet-cpp",
   "language": "python",
   "name": "bitnet-cpp"
  },
  "language_info": {
   "codemirror_mode": {
    "name": "ipython",
    "version": 3
   },
   "file_extension": ".py",
   "mimetype": "text/x-python",
   "name": "python",
   "nbconvert_exporter": "python",
   "pygments_lexer": "ipython3",
   "version": "3.11.10"
  }
 },
 "nbformat": 4,
 "nbformat_minor": 2
}
